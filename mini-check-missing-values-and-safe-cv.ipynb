{
 "cells": [
  {
   "cell_type": "markdown",
   "id": "5849653b",
   "metadata": {
    "papermill": {
     "duration": 0.03855,
     "end_time": "2022-04-06T12:13:40.954124",
     "exception": false,
     "start_time": "2022-04-06T12:13:40.915574",
     "status": "completed"
    },
    "tags": []
   },
   "source": [
    "Helpful Functions pandas\n",
    "\n",
    "`isna()\n",
    "fillna()\n",
    "dropna()\n",
    "drop()\n",
    "groupby()\n",
    "pivot()\n",
    "pivot_table()\n",
    "apply()\n",
    "rolling()\n",
    "interpolate()\n",
    "pad()\n",
    "bfill() ffill()\n",
    "info()\n",
    "count()\n",
    "value_counts()\n",
    "quantile()`"
   ]
  },
  {
   "cell_type": "code",
   "execution_count": 1,
   "id": "5f501863",
   "metadata": {
    "execution": {
     "iopub.execute_input": "2022-04-06T12:13:41.040331Z",
     "iopub.status.busy": "2022-04-06T12:13:41.039373Z",
     "iopub.status.idle": "2022-04-06T12:13:42.650959Z",
     "shell.execute_reply": "2022-04-06T12:13:42.650158Z",
     "shell.execute_reply.started": "2022-04-06T12:02:49.440627Z"
    },
    "papermill": {
     "duration": 1.658751,
     "end_time": "2022-04-06T12:13:42.651134",
     "exception": false,
     "start_time": "2022-04-06T12:13:40.992383",
     "status": "completed"
    },
    "tags": []
   },
   "outputs": [],
   "source": [
    "#import things needed for baseline and data \n",
    "#don't worry if there are some things you haven't seen yet, we'll go through it.\n",
    "from sklearn.datasets import fetch_openml\n",
    "from sklearn.linear_model import LinearRegression, RidgeCV, Ridge\n",
    "from sklearn.model_selection import train_test_split, cross_val_score, KFold\n",
    "from sklearn.metrics import mean_squared_error as mse\n",
    "from sklearn.preprocessing import StandardScaler, LabelEncoder\n",
    "import numpy as np\n",
    "import pandas as pd\n",
    "import matplotlib.pyplot as plt\n",
    "import seaborn as sns"
   ]
  },
  {
   "cell_type": "markdown",
   "id": "de7b171a",
   "metadata": {
    "papermill": {
     "duration": 0.033896,
     "end_time": "2022-04-06T12:13:42.721199",
     "exception": false,
     "start_time": "2022-04-06T12:13:42.687303",
     "status": "completed"
    },
    "tags": []
   },
   "source": [
    "# Same old Predicting House Prices 💰🏡💰\n",
    "### Just with missing values"
   ]
  },
  {
   "cell_type": "markdown",
   "id": "ad513ef8",
   "metadata": {
    "papermill": {
     "duration": 0.033557,
     "end_time": "2022-04-06T12:13:42.788496",
     "exception": false,
     "start_time": "2022-04-06T12:13:42.754939",
     "status": "completed"
    },
    "tags": []
   },
   "source": [
    "# If anything just use reasoning"
   ]
  },
  {
   "cell_type": "code",
   "execution_count": 2,
   "id": "2b9eebee",
   "metadata": {
    "execution": {
     "iopub.execute_input": "2022-04-06T12:13:42.861611Z",
     "iopub.status.busy": "2022-04-06T12:13:42.860966Z",
     "iopub.status.idle": "2022-04-06T12:13:48.607750Z",
     "shell.execute_reply": "2022-04-06T12:13:48.607151Z",
     "shell.execute_reply.started": "2022-04-06T12:02:49.463361Z"
    },
    "papermill": {
     "duration": 5.786146,
     "end_time": "2022-04-06T12:13:48.607915",
     "exception": false,
     "start_time": "2022-04-06T12:13:42.821769",
     "status": "completed"
    },
    "tags": []
   },
   "outputs": [],
   "source": [
    "#repeat see last notebook for line by line comments explanations of old stuff\n",
    "data = fetch_openml(name=\"house_prices\", as_frame=True)\n",
    "ames = data['data']\n",
    "ames['Price'] = data['target']"
   ]
  },
  {
   "cell_type": "code",
   "execution_count": 3,
   "id": "6dc6a788",
   "metadata": {
    "execution": {
     "iopub.execute_input": "2022-04-06T12:13:48.693946Z",
     "iopub.status.busy": "2022-04-06T12:13:48.692575Z",
     "iopub.status.idle": "2022-04-06T12:13:48.716386Z",
     "shell.execute_reply": "2022-04-06T12:13:48.717148Z",
     "shell.execute_reply.started": "2022-04-06T12:02:49.706596Z"
    },
    "papermill": {
     "duration": 0.075603,
     "end_time": "2022-04-06T12:13:48.717366",
     "exception": false,
     "start_time": "2022-04-06T12:13:48.641763",
     "status": "completed"
    },
    "tags": []
   },
   "outputs": [
    {
     "name": "stdout",
     "output_type": "stream",
     "text": [
      "<class 'pandas.core.frame.DataFrame'>\n",
      "RangeIndex: 1460 entries, 0 to 1459\n",
      "Data columns (total 81 columns):\n",
      " #   Column         Non-Null Count  Dtype  \n",
      "---  ------         --------------  -----  \n",
      " 0   Id             1460 non-null   float64\n",
      " 1   MSSubClass     1460 non-null   float64\n",
      " 2   MSZoning       1460 non-null   object \n",
      " 3   LotFrontage    1201 non-null   float64\n",
      " 4   LotArea        1460 non-null   float64\n",
      " 5   Street         1460 non-null   object \n",
      " 6   Alley          91 non-null     object \n",
      " 7   LotShape       1460 non-null   object \n",
      " 8   LandContour    1460 non-null   object \n",
      " 9   Utilities      1460 non-null   object \n",
      " 10  LotConfig      1460 non-null   object \n",
      " 11  LandSlope      1460 non-null   object \n",
      " 12  Neighborhood   1460 non-null   object \n",
      " 13  Condition1     1460 non-null   object \n",
      " 14  Condition2     1460 non-null   object \n",
      " 15  BldgType       1460 non-null   object \n",
      " 16  HouseStyle     1460 non-null   object \n",
      " 17  OverallQual    1460 non-null   float64\n",
      " 18  OverallCond    1460 non-null   float64\n",
      " 19  YearBuilt      1460 non-null   float64\n",
      " 20  YearRemodAdd   1460 non-null   float64\n",
      " 21  RoofStyle      1460 non-null   object \n",
      " 22  RoofMatl       1460 non-null   object \n",
      " 23  Exterior1st    1460 non-null   object \n",
      " 24  Exterior2nd    1460 non-null   object \n",
      " 25  MasVnrType     1452 non-null   object \n",
      " 26  MasVnrArea     1452 non-null   float64\n",
      " 27  ExterQual      1460 non-null   object \n",
      " 28  ExterCond      1460 non-null   object \n",
      " 29  Foundation     1460 non-null   object \n",
      " 30  BsmtQual       1423 non-null   object \n",
      " 31  BsmtCond       1423 non-null   object \n",
      " 32  BsmtExposure   1422 non-null   object \n",
      " 33  BsmtFinType1   1423 non-null   object \n",
      " 34  BsmtFinSF1     1460 non-null   float64\n",
      " 35  BsmtFinType2   1422 non-null   object \n",
      " 36  BsmtFinSF2     1460 non-null   float64\n",
      " 37  BsmtUnfSF      1460 non-null   float64\n",
      " 38  TotalBsmtSF    1460 non-null   float64\n",
      " 39  Heating        1460 non-null   object \n",
      " 40  HeatingQC      1460 non-null   object \n",
      " 41  CentralAir     1460 non-null   object \n",
      " 42  Electrical     1459 non-null   object \n",
      " 43  1stFlrSF       1460 non-null   float64\n",
      " 44  2ndFlrSF       1460 non-null   float64\n",
      " 45  LowQualFinSF   1460 non-null   float64\n",
      " 46  GrLivArea      1460 non-null   float64\n",
      " 47  BsmtFullBath   1460 non-null   float64\n",
      " 48  BsmtHalfBath   1460 non-null   float64\n",
      " 49  FullBath       1460 non-null   float64\n",
      " 50  HalfBath       1460 non-null   float64\n",
      " 51  BedroomAbvGr   1460 non-null   float64\n",
      " 52  KitchenAbvGr   1460 non-null   float64\n",
      " 53  KitchenQual    1460 non-null   object \n",
      " 54  TotRmsAbvGrd   1460 non-null   float64\n",
      " 55  Functional     1460 non-null   object \n",
      " 56  Fireplaces     1460 non-null   float64\n",
      " 57  FireplaceQu    770 non-null    object \n",
      " 58  GarageType     1379 non-null   object \n",
      " 59  GarageYrBlt    1379 non-null   float64\n",
      " 60  GarageFinish   1379 non-null   object \n",
      " 61  GarageCars     1460 non-null   float64\n",
      " 62  GarageArea     1460 non-null   float64\n",
      " 63  GarageQual     1379 non-null   object \n",
      " 64  GarageCond     1379 non-null   object \n",
      " 65  PavedDrive     1460 non-null   object \n",
      " 66  WoodDeckSF     1460 non-null   float64\n",
      " 67  OpenPorchSF    1460 non-null   float64\n",
      " 68  EnclosedPorch  1460 non-null   float64\n",
      " 69  3SsnPorch      1460 non-null   float64\n",
      " 70  ScreenPorch    1460 non-null   float64\n",
      " 71  PoolArea       1460 non-null   float64\n",
      " 72  PoolQC         7 non-null      object \n",
      " 73  Fence          281 non-null    object \n",
      " 74  MiscFeature    54 non-null     object \n",
      " 75  MiscVal        1460 non-null   float64\n",
      " 76  MoSold         1460 non-null   float64\n",
      " 77  YrSold         1460 non-null   float64\n",
      " 78  SaleType       1460 non-null   object \n",
      " 79  SaleCondition  1460 non-null   object \n",
      " 80  Price          1460 non-null   float64\n",
      "dtypes: float64(38), object(43)\n",
      "memory usage: 924.0+ KB\n"
     ]
    }
   ],
   "source": [
    "#quickly check which columns have lots of missing values\n",
    "ames.info()"
   ]
  },
  {
   "cell_type": "code",
   "execution_count": 4,
   "id": "3fc49b6f",
   "metadata": {
    "execution": {
     "iopub.execute_input": "2022-04-06T12:13:48.792549Z",
     "iopub.status.busy": "2022-04-06T12:13:48.791736Z",
     "iopub.status.idle": "2022-04-06T12:13:48.797999Z",
     "shell.execute_reply": "2022-04-06T12:13:48.798553Z",
     "shell.execute_reply.started": "2022-04-06T12:02:49.742752Z"
    },
    "papermill": {
     "duration": 0.045004,
     "end_time": "2022-04-06T12:13:48.798748",
     "exception": false,
     "start_time": "2022-04-06T12:13:48.753744",
     "status": "completed"
    },
    "tags": []
   },
   "outputs": [],
   "source": [
    "#Fence and Garage have missing values, Fence a lot, Garagve a few, we'll ad some more manually\n",
    "housing = ames[['Price', 'GrLivArea', 'YearBuilt', 'Fence', 'GarageType']]\n",
    "X = housing"
   ]
  },
  {
   "cell_type": "code",
   "execution_count": 5,
   "id": "7eb3afea",
   "metadata": {
    "execution": {
     "iopub.execute_input": "2022-04-06T12:13:48.872064Z",
     "iopub.status.busy": "2022-04-06T12:13:48.871363Z",
     "iopub.status.idle": "2022-04-06T12:13:48.875632Z",
     "shell.execute_reply": "2022-04-06T12:13:48.876170Z",
     "shell.execute_reply.started": "2022-04-06T12:02:49.751653Z"
    },
    "papermill": {
     "duration": 0.042593,
     "end_time": "2022-04-06T12:13:48.876368",
     "exception": false,
     "start_time": "2022-04-06T12:13:48.833775",
     "status": "completed"
    },
    "tags": []
   },
   "outputs": [],
   "source": [
    "rng = np.random.default_rng()"
   ]
  },
  {
   "cell_type": "code",
   "execution_count": 6,
   "id": "c6abc671",
   "metadata": {
    "execution": {
     "iopub.execute_input": "2022-04-06T12:13:48.949201Z",
     "iopub.status.busy": "2022-04-06T12:13:48.948466Z",
     "iopub.status.idle": "2022-04-06T12:13:48.954955Z",
     "shell.execute_reply": "2022-04-06T12:13:48.955454Z",
     "shell.execute_reply.started": "2022-04-06T12:02:49.764341Z"
    },
    "papermill": {
     "duration": 0.044876,
     "end_time": "2022-04-06T12:13:48.955642",
     "exception": false,
     "start_time": "2022-04-06T12:13:48.910766",
     "status": "completed"
    },
    "tags": []
   },
   "outputs": [
    {
     "data": {
      "text/plain": [
       "(1460, 5)"
      ]
     },
     "execution_count": 6,
     "metadata": {},
     "output_type": "execute_result"
    }
   ],
   "source": [
    "X.shape"
   ]
  },
  {
   "cell_type": "code",
   "execution_count": 7,
   "id": "ac7a107f",
   "metadata": {
    "execution": {
     "iopub.execute_input": "2022-04-06T12:13:49.031207Z",
     "iopub.status.busy": "2022-04-06T12:13:49.030486Z",
     "iopub.status.idle": "2022-04-06T12:13:49.040312Z",
     "shell.execute_reply": "2022-04-06T12:13:49.040978Z",
     "shell.execute_reply.started": "2022-04-06T12:02:49.779828Z"
    },
    "papermill": {
     "duration": 0.049003,
     "end_time": "2022-04-06T12:13:49.041176",
     "exception": false,
     "start_time": "2022-04-06T12:13:48.992173",
     "status": "completed"
    },
    "tags": []
   },
   "outputs": [
    {
     "name": "stderr",
     "output_type": "stream",
     "text": [
      "/opt/conda/lib/python3.7/site-packages/pandas/core/indexing.py:1817: SettingWithCopyWarning: \n",
      "A value is trying to be set on a copy of a slice from a DataFrame.\n",
      "Try using .loc[row_indexer,col_indexer] = value instead\n",
      "\n",
      "See the caveats in the documentation: https://pandas.pydata.org/pandas-docs/stable/user_guide/indexing.html#returning-a-view-versus-a-copy\n",
      "  self._setitem_single_column(loc, value, pi)\n"
     ]
    }
   ],
   "source": [
    "#lets make 20% of GrLivArea np.nan, pretend you didn't see how we made it\n",
    "nan_indices = rng.choice(X.index.to_list(), size = int(X.shape[0]*0.2))\n",
    "X.loc[nan_indices, 'GrLivArea'] = np.nan"
   ]
  },
  {
   "cell_type": "code",
   "execution_count": 8,
   "id": "664bc41f",
   "metadata": {
    "execution": {
     "iopub.execute_input": "2022-04-06T12:13:49.117514Z",
     "iopub.status.busy": "2022-04-06T12:13:49.116701Z",
     "iopub.status.idle": "2022-04-06T12:13:49.119585Z",
     "shell.execute_reply": "2022-04-06T12:13:49.120114Z",
     "shell.execute_reply.started": "2022-04-06T12:02:49.795246Z"
    },
    "papermill": {
     "duration": 0.043968,
     "end_time": "2022-04-06T12:13:49.120309",
     "exception": false,
     "start_time": "2022-04-06T12:13:49.076341",
     "status": "completed"
    },
    "tags": []
   },
   "outputs": [
    {
     "data": {
      "text/plain": [
       "True"
      ]
     },
     "execution_count": 8,
     "metadata": {},
     "output_type": "execute_result"
    }
   ],
   "source": [
    "X.GrLivArea.isna().values.any()"
   ]
  },
  {
   "cell_type": "code",
   "execution_count": 9,
   "id": "73518301",
   "metadata": {
    "execution": {
     "iopub.execute_input": "2022-04-06T12:13:49.197380Z",
     "iopub.status.busy": "2022-04-06T12:13:49.194660Z",
     "iopub.status.idle": "2022-04-06T12:13:49.201849Z",
     "shell.execute_reply": "2022-04-06T12:13:49.201287Z",
     "shell.execute_reply.started": "2022-04-06T12:02:49.810321Z"
    },
    "papermill": {
     "duration": 0.046124,
     "end_time": "2022-04-06T12:13:49.202041",
     "exception": false,
     "start_time": "2022-04-06T12:13:49.155917",
     "status": "completed"
    },
    "tags": []
   },
   "outputs": [
    {
     "data": {
      "text/plain": [
       "array(['Attchd', 'Detchd', 'BuiltIn', 'CarPort', None, 'Basment',\n",
       "       '2Types'], dtype=object)"
      ]
     },
     "execution_count": 9,
     "metadata": {},
     "output_type": "execute_result"
    }
   ],
   "source": [
    "X.GarageType.unique()"
   ]
  },
  {
   "cell_type": "code",
   "execution_count": 10,
   "id": "9aaf21ee",
   "metadata": {
    "execution": {
     "iopub.execute_input": "2022-04-06T12:13:49.276855Z",
     "iopub.status.busy": "2022-04-06T12:13:49.275944Z",
     "iopub.status.idle": "2022-04-06T12:13:49.282004Z",
     "shell.execute_reply": "2022-04-06T12:13:49.282538Z",
     "shell.execute_reply.started": "2022-04-06T12:02:49.826975Z"
    },
    "papermill": {
     "duration": 0.044927,
     "end_time": "2022-04-06T12:13:49.282701",
     "exception": false,
     "start_time": "2022-04-06T12:13:49.237774",
     "status": "completed"
    },
    "tags": []
   },
   "outputs": [
    {
     "data": {
      "text/plain": [
       "array([None, 'MnPrv', 'GdWo', 'GdPrv', 'MnWw'], dtype=object)"
      ]
     },
     "execution_count": 10,
     "metadata": {},
     "output_type": "execute_result"
    }
   ],
   "source": [
    "X.Fence.unique()"
   ]
  },
  {
   "cell_type": "markdown",
   "id": "13de893b",
   "metadata": {
    "papermill": {
     "duration": 0.036043,
     "end_time": "2022-04-06T12:13:49.354301",
     "exception": false,
     "start_time": "2022-04-06T12:13:49.318258",
     "status": "completed"
    },
    "tags": []
   },
   "source": [
    "# Missing Value Options"
   ]
  },
  {
   "cell_type": "code",
   "execution_count": 11,
   "id": "165cb06b",
   "metadata": {
    "execution": {
     "iopub.execute_input": "2022-04-06T12:13:49.430118Z",
     "iopub.status.busy": "2022-04-06T12:13:49.429424Z",
     "iopub.status.idle": "2022-04-06T12:13:49.438383Z",
     "shell.execute_reply": "2022-04-06T12:13:49.437711Z",
     "shell.execute_reply.started": "2022-04-06T12:02:49.840103Z"
    },
    "papermill": {
     "duration": 0.048516,
     "end_time": "2022-04-06T12:13:49.438522",
     "exception": false,
     "start_time": "2022-04-06T12:13:49.390006",
     "status": "completed"
    },
    "tags": []
   },
   "outputs": [
    {
     "data": {
      "text/plain": [
       "(216, 5)"
      ]
     },
     "execution_count": 11,
     "metadata": {},
     "output_type": "execute_result"
    }
   ],
   "source": [
    "#simple\n",
    "dropped = X.dropna()\n",
    "dropped.shape\n",
    "\n",
    "#also simple use a tree based models that deal with it for you\n",
    "#attention they just naively split on nan and treat it like any other value, \n",
    "#trees are powerful, you're handicapping them by just using them this way\n",
    "#but it could be a quick solution"
   ]
  },
  {
   "cell_type": "markdown",
   "id": "2d35bd1c",
   "metadata": {
    "papermill": {
     "duration": 0.037384,
     "end_time": "2022-04-06T12:13:49.512716",
     "exception": false,
     "start_time": "2022-04-06T12:13:49.475332",
     "status": "completed"
    },
    "tags": []
   },
   "source": [
    "yikes, lost almost everything"
   ]
  },
  {
   "cell_type": "code",
   "execution_count": 12,
   "id": "bf37fcfd",
   "metadata": {
    "execution": {
     "iopub.execute_input": "2022-04-06T12:13:49.590961Z",
     "iopub.status.busy": "2022-04-06T12:13:49.590265Z",
     "iopub.status.idle": "2022-04-06T12:13:49.596958Z",
     "shell.execute_reply": "2022-04-06T12:13:49.597490Z",
     "shell.execute_reply.started": "2022-04-06T12:02:49.854433Z"
    },
    "papermill": {
     "duration": 0.047705,
     "end_time": "2022-04-06T12:13:49.597685",
     "exception": false,
     "start_time": "2022-04-06T12:13:49.549980",
     "status": "completed"
    },
    "tags": []
   },
   "outputs": [],
   "source": [
    "#look at columns, remember fence is mostly nan, it would be reasonable to drop it, or, make it a feature the model can use\n",
    "dropFence = X.drop(\"Fence\", axis = 1)\n",
    "addedNoneFence = X.Fence.apply(lambda x: \"None\" if x == None else x)"
   ]
  },
  {
   "cell_type": "markdown",
   "id": "1d28435c",
   "metadata": {
    "papermill": {
     "duration": 0.037131,
     "end_time": "2022-04-06T12:13:49.671825",
     "exception": false,
     "start_time": "2022-04-06T12:13:49.634694",
     "status": "completed"
    },
    "tags": []
   },
   "source": [
    "GarageType has a lot of values, have to think more"
   ]
  },
  {
   "cell_type": "code",
   "execution_count": 13,
   "id": "4b5161a4",
   "metadata": {
    "execution": {
     "iopub.execute_input": "2022-04-06T12:13:49.758235Z",
     "iopub.status.busy": "2022-04-06T12:13:49.757277Z",
     "iopub.status.idle": "2022-04-06T12:13:49.765609Z",
     "shell.execute_reply": "2022-04-06T12:13:49.766502Z",
     "shell.execute_reply.started": "2022-04-06T12:02:49.867961Z"
    },
    "papermill": {
     "duration": 0.058273,
     "end_time": "2022-04-06T12:13:49.766732",
     "exception": false,
     "start_time": "2022-04-06T12:13:49.708459",
     "status": "completed"
    },
    "tags": []
   },
   "outputs": [
    {
     "data": {
      "text/plain": [
       "Attchd     870\n",
       "Detchd     387\n",
       "BuiltIn     88\n",
       "Basment     19\n",
       "CarPort      9\n",
       "2Types       6\n",
       "Name: GarageType, dtype: int64"
      ]
     },
     "execution_count": 13,
     "metadata": {},
     "output_type": "execute_result"
    }
   ],
   "source": [
    "#what is the distribution?\n",
    "X.GarageType.value_counts()"
   ]
  },
  {
   "cell_type": "markdown",
   "id": "77e14230",
   "metadata": {
    "papermill": {
     "duration": 0.045386,
     "end_time": "2022-04-06T12:13:49.857214",
     "exception": false,
     "start_time": "2022-04-06T12:13:49.811828",
     "status": "completed"
    },
    "tags": []
   },
   "source": [
    "# Careful don't do any of the following like I'm showing exactly, need to do it separate for train/test/val sets! "
   ]
  },
  {
   "cell_type": "code",
   "execution_count": 14,
   "id": "5614ad79",
   "metadata": {
    "execution": {
     "iopub.execute_input": "2022-04-06T12:13:49.941259Z",
     "iopub.status.busy": "2022-04-06T12:13:49.940219Z",
     "iopub.status.idle": "2022-04-06T12:13:50.031939Z",
     "shell.execute_reply": "2022-04-06T12:13:50.031152Z",
     "shell.execute_reply.started": "2022-04-06T12:02:49.883878Z"
    },
    "papermill": {
     "duration": 0.132373,
     "end_time": "2022-04-06T12:13:50.032178",
     "exception": false,
     "start_time": "2022-04-06T12:13:49.899805",
     "status": "completed"
    },
    "tags": []
   },
   "outputs": [
    {
     "name": "stderr",
     "output_type": "stream",
     "text": [
      "/opt/conda/lib/python3.7/site-packages/pandas/core/generic.py:6392: SettingWithCopyWarning: \n",
      "A value is trying to be set on a copy of a slice from a DataFrame\n",
      "\n",
      "See the caveats in the documentation: https://pandas.pydata.org/pandas-docs/stable/user_guide/indexing.html#returning-a-view-versus-a-copy\n",
      "  return self._update_inplace(result)\n"
     ]
    },
    {
     "data": {
      "text/html": [
       "<div>\n",
       "<style scoped>\n",
       "    .dataframe tbody tr th:only-of-type {\n",
       "        vertical-align: middle;\n",
       "    }\n",
       "\n",
       "    .dataframe tbody tr th {\n",
       "        vertical-align: top;\n",
       "    }\n",
       "\n",
       "    .dataframe thead th {\n",
       "        text-align: right;\n",
       "    }\n",
       "</style>\n",
       "<table border=\"1\" class=\"dataframe\">\n",
       "  <thead>\n",
       "    <tr style=\"text-align: right;\">\n",
       "      <th></th>\n",
       "      <th>count</th>\n",
       "      <th>mean</th>\n",
       "      <th>std</th>\n",
       "      <th>min</th>\n",
       "      <th>25%</th>\n",
       "      <th>50%</th>\n",
       "      <th>75%</th>\n",
       "      <th>max</th>\n",
       "    </tr>\n",
       "    <tr>\n",
       "      <th>GarageType</th>\n",
       "      <th></th>\n",
       "      <th></th>\n",
       "      <th></th>\n",
       "      <th></th>\n",
       "      <th></th>\n",
       "      <th></th>\n",
       "      <th></th>\n",
       "      <th></th>\n",
       "    </tr>\n",
       "  </thead>\n",
       "  <tbody>\n",
       "    <tr>\n",
       "      <th>2Types</th>\n",
       "      <td>6.0</td>\n",
       "      <td>151283.333333</td>\n",
       "      <td>34917.068415</td>\n",
       "      <td>87000.0</td>\n",
       "      <td>146250.0</td>\n",
       "      <td>159000.0</td>\n",
       "      <td>170250.00</td>\n",
       "      <td>186700.0</td>\n",
       "    </tr>\n",
       "    <tr>\n",
       "      <th>Attchd</th>\n",
       "      <td>870.0</td>\n",
       "      <td>202892.656322</td>\n",
       "      <td>77146.621778</td>\n",
       "      <td>60000.0</td>\n",
       "      <td>150000.0</td>\n",
       "      <td>185000.0</td>\n",
       "      <td>235000.00</td>\n",
       "      <td>755000.0</td>\n",
       "    </tr>\n",
       "    <tr>\n",
       "      <th>Basment</th>\n",
       "      <td>19.0</td>\n",
       "      <td>160570.684211</td>\n",
       "      <td>63967.283574</td>\n",
       "      <td>55993.0</td>\n",
       "      <td>132250.0</td>\n",
       "      <td>148000.0</td>\n",
       "      <td>174000.00</td>\n",
       "      <td>359100.0</td>\n",
       "    </tr>\n",
       "    <tr>\n",
       "      <th>BuiltIn</th>\n",
       "      <td>88.0</td>\n",
       "      <td>254751.738636</td>\n",
       "      <td>102230.854394</td>\n",
       "      <td>91000.0</td>\n",
       "      <td>180750.0</td>\n",
       "      <td>227500.0</td>\n",
       "      <td>300719.25</td>\n",
       "      <td>582933.0</td>\n",
       "    </tr>\n",
       "    <tr>\n",
       "      <th>CarPort</th>\n",
       "      <td>9.0</td>\n",
       "      <td>109962.111111</td>\n",
       "      <td>24638.183681</td>\n",
       "      <td>82000.0</td>\n",
       "      <td>95000.0</td>\n",
       "      <td>108000.0</td>\n",
       "      <td>110000.00</td>\n",
       "      <td>164900.0</td>\n",
       "    </tr>\n",
       "    <tr>\n",
       "      <th>Detchd</th>\n",
       "      <td>387.0</td>\n",
       "      <td>134091.162791</td>\n",
       "      <td>41391.549953</td>\n",
       "      <td>35311.0</td>\n",
       "      <td>110000.0</td>\n",
       "      <td>129500.0</td>\n",
       "      <td>147700.00</td>\n",
       "      <td>475000.0</td>\n",
       "    </tr>\n",
       "    <tr>\n",
       "      <th>None</th>\n",
       "      <td>81.0</td>\n",
       "      <td>103317.283951</td>\n",
       "      <td>32815.023389</td>\n",
       "      <td>34900.0</td>\n",
       "      <td>82500.0</td>\n",
       "      <td>100000.0</td>\n",
       "      <td>124000.00</td>\n",
       "      <td>200500.0</td>\n",
       "    </tr>\n",
       "  </tbody>\n",
       "</table>\n",
       "</div>"
      ],
      "text/plain": [
       "            count           mean            std      min       25%       50%  \\\n",
       "GarageType                                                                     \n",
       "2Types        6.0  151283.333333   34917.068415  87000.0  146250.0  159000.0   \n",
       "Attchd      870.0  202892.656322   77146.621778  60000.0  150000.0  185000.0   \n",
       "Basment      19.0  160570.684211   63967.283574  55993.0  132250.0  148000.0   \n",
       "BuiltIn      88.0  254751.738636  102230.854394  91000.0  180750.0  227500.0   \n",
       "CarPort       9.0  109962.111111   24638.183681  82000.0   95000.0  108000.0   \n",
       "Detchd      387.0  134091.162791   41391.549953  35311.0  110000.0  129500.0   \n",
       "None         81.0  103317.283951   32815.023389  34900.0   82500.0  100000.0   \n",
       "\n",
       "                  75%       max  \n",
       "GarageType                       \n",
       "2Types      170250.00  186700.0  \n",
       "Attchd      235000.00  755000.0  \n",
       "Basment     174000.00  359100.0  \n",
       "BuiltIn     300719.25  582933.0  \n",
       "CarPort     110000.00  164900.0  \n",
       "Detchd      147700.00  475000.0  \n",
       "None        124000.00  200500.0  "
      ]
     },
     "execution_count": 14,
     "metadata": {},
     "output_type": "execute_result"
    }
   ],
   "source": [
    "#most common is attached, then detached, built in, basement (fancy), carport (?), 2types (richie rich)\n",
    "#reasonable choices are fill with most common, do a groupby and fill with most common for group, fill with none as we did before\n",
    "#find out about your data a little to make this choice\n",
    "#semi-reasonable here is to also just drop it, since it isn't a lot of our data (this is relative)\n",
    "#Another thing is target encoding, but that's tricky to do\n",
    "#anyway tldr, look and get a feel how this may influence your data\n",
    "X['GarageType'].fillna('None', inplace = True) #fill for now since groupby ignores otherwise\n",
    "X.groupby(\"GarageType\").describe()['Price']\n",
    "#The price is generally lower, if I were a betting man (which I am), I would say it probably means the House has no Garage, but we don't know that\n",
    "#it's reasonable to leave as is, since it seems to have a significant impact on price\n",
    "#if you have some features that correlates well with price, I'd groupby that and fill with that, #we don't have that here though\n",
    "#more advanced use clustering to fill by cluster"
   ]
  },
  {
   "cell_type": "code",
   "execution_count": 15,
   "id": "d84f18d6",
   "metadata": {
    "execution": {
     "iopub.execute_input": "2022-04-06T12:13:50.116928Z",
     "iopub.status.busy": "2022-04-06T12:13:50.115857Z",
     "iopub.status.idle": "2022-04-06T12:13:50.123715Z",
     "shell.execute_reply": "2022-04-06T12:13:50.124236Z",
     "shell.execute_reply.started": "2022-04-06T12:02:49.969742Z"
    },
    "papermill": {
     "duration": 0.051941,
     "end_time": "2022-04-06T12:13:50.124427",
     "exception": false,
     "start_time": "2022-04-06T12:13:50.072486",
     "status": "completed"
    },
    "tags": []
   },
   "outputs": [
    {
     "data": {
      "text/plain": [
       "count    1192.000000\n",
       "mean     1517.243289\n",
       "std       534.149606\n",
       "min       334.000000\n",
       "25%      1143.500000\n",
       "50%      1457.000000\n",
       "75%      1774.250000\n",
       "max      5642.000000\n",
       "Name: GrLivArea, dtype: float64"
      ]
     },
     "execution_count": 15,
     "metadata": {},
     "output_type": "execute_result"
    }
   ],
   "source": [
    "#so how about the continuous value we created?\n",
    "# we can fill with mean, median, max, min, again look at data see what makes sense\n",
    "X.GrLivArea.describe()"
   ]
  },
  {
   "cell_type": "code",
   "execution_count": 16,
   "id": "194b70c8",
   "metadata": {
    "execution": {
     "iopub.execute_input": "2022-04-06T12:13:50.205322Z",
     "iopub.status.busy": "2022-04-06T12:13:50.204355Z",
     "iopub.status.idle": "2022-04-06T12:13:50.214990Z",
     "shell.execute_reply": "2022-04-06T12:13:50.215457Z",
     "shell.execute_reply.started": "2022-04-06T12:02:49.983231Z"
    },
    "papermill": {
     "duration": 0.052961,
     "end_time": "2022-04-06T12:13:50.215656",
     "exception": false,
     "start_time": "2022-04-06T12:13:50.162695",
     "status": "completed"
    },
    "tags": []
   },
   "outputs": [
    {
     "data": {
      "text/html": [
       "<div>\n",
       "<style scoped>\n",
       "    .dataframe tbody tr th:only-of-type {\n",
       "        vertical-align: middle;\n",
       "    }\n",
       "\n",
       "    .dataframe tbody tr th {\n",
       "        vertical-align: top;\n",
       "    }\n",
       "\n",
       "    .dataframe thead th {\n",
       "        text-align: right;\n",
       "    }\n",
       "</style>\n",
       "<table border=\"1\" class=\"dataframe\">\n",
       "  <thead>\n",
       "    <tr style=\"text-align: right;\">\n",
       "      <th></th>\n",
       "      <th>Price</th>\n",
       "      <th>GrLivArea</th>\n",
       "      <th>YearBuilt</th>\n",
       "    </tr>\n",
       "  </thead>\n",
       "  <tbody>\n",
       "    <tr>\n",
       "      <th>Price</th>\n",
       "      <td>1.000000</td>\n",
       "      <td>0.703382</td>\n",
       "      <td>0.522897</td>\n",
       "    </tr>\n",
       "    <tr>\n",
       "      <th>GrLivArea</th>\n",
       "      <td>0.703382</td>\n",
       "      <td>1.000000</td>\n",
       "      <td>0.185506</td>\n",
       "    </tr>\n",
       "    <tr>\n",
       "      <th>YearBuilt</th>\n",
       "      <td>0.522897</td>\n",
       "      <td>0.185506</td>\n",
       "      <td>1.000000</td>\n",
       "    </tr>\n",
       "  </tbody>\n",
       "</table>\n",
       "</div>"
      ],
      "text/plain": [
       "              Price  GrLivArea  YearBuilt\n",
       "Price      1.000000   0.703382   0.522897\n",
       "GrLivArea  0.703382   1.000000   0.185506\n",
       "YearBuilt  0.522897   0.185506   1.000000"
      ]
     },
     "execution_count": 16,
     "metadata": {},
     "output_type": "execute_result"
    }
   ],
   "source": [
    "#also there is high correlation with GrLivArea so you mgiht want to be careful to not handicap your model\n",
    "X.corr()"
   ]
  },
  {
   "cell_type": "code",
   "execution_count": 17,
   "id": "2e3b40a1",
   "metadata": {
    "execution": {
     "iopub.execute_input": "2022-04-06T12:13:50.302493Z",
     "iopub.status.busy": "2022-04-06T12:13:50.301749Z",
     "iopub.status.idle": "2022-04-06T12:13:50.310235Z",
     "shell.execute_reply": "2022-04-06T12:13:50.310706Z",
     "shell.execute_reply.started": "2022-04-06T12:02:49.999313Z"
    },
    "papermill": {
     "duration": 0.055176,
     "end_time": "2022-04-06T12:13:50.310922",
     "exception": false,
     "start_time": "2022-04-06T12:13:50.255746",
     "status": "completed"
    },
    "tags": []
   },
   "outputs": [
    {
     "data": {
      "text/html": [
       "<div>\n",
       "<style scoped>\n",
       "    .dataframe tbody tr th:only-of-type {\n",
       "        vertical-align: middle;\n",
       "    }\n",
       "\n",
       "    .dataframe tbody tr th {\n",
       "        vertical-align: top;\n",
       "    }\n",
       "\n",
       "    .dataframe thead th {\n",
       "        text-align: right;\n",
       "    }\n",
       "</style>\n",
       "<table border=\"1\" class=\"dataframe\">\n",
       "  <thead>\n",
       "    <tr style=\"text-align: right;\">\n",
       "      <th></th>\n",
       "      <th>Price</th>\n",
       "      <th>GrLivArea</th>\n",
       "      <th>YearBuilt</th>\n",
       "    </tr>\n",
       "  </thead>\n",
       "  <tbody>\n",
       "    <tr>\n",
       "      <th>Price</th>\n",
       "      <td>1.000000</td>\n",
       "      <td>0.643962</td>\n",
       "      <td>0.522897</td>\n",
       "    </tr>\n",
       "    <tr>\n",
       "      <th>GrLivArea</th>\n",
       "      <td>0.643962</td>\n",
       "      <td>1.000000</td>\n",
       "      <td>0.167572</td>\n",
       "    </tr>\n",
       "    <tr>\n",
       "      <th>YearBuilt</th>\n",
       "      <td>0.522897</td>\n",
       "      <td>0.167572</td>\n",
       "      <td>1.000000</td>\n",
       "    </tr>\n",
       "  </tbody>\n",
       "</table>\n",
       "</div>"
      ],
      "text/plain": [
       "              Price  GrLivArea  YearBuilt\n",
       "Price      1.000000   0.643962   0.522897\n",
       "GrLivArea  0.643962   1.000000   0.167572\n",
       "YearBuilt  0.522897   0.167572   1.000000"
      ]
     },
     "execution_count": 17,
     "metadata": {},
     "output_type": "execute_result"
    }
   ],
   "source": [
    "#see why\n",
    "mean_fill = X.copy()\n",
    "mean_fill['GrLivArea'].fillna(mean_fill.GrLivArea.mean(), inplace = True)\n",
    "mean_fill.corr()"
   ]
  },
  {
   "cell_type": "markdown",
   "id": "729b1ec7",
   "metadata": {
    "papermill": {
     "duration": 0.039372,
     "end_time": "2022-04-06T12:13:50.390134",
     "exception": false,
     "start_time": "2022-04-06T12:13:50.350762",
     "status": "completed"
    },
    "tags": []
   },
   "source": [
    "## that had a big impact, could be good, but could also be bad if some nasty outliers. Median probably better."
   ]
  },
  {
   "cell_type": "code",
   "execution_count": 18,
   "id": "9343b642",
   "metadata": {
    "execution": {
     "iopub.execute_input": "2022-04-06T12:13:50.472963Z",
     "iopub.status.busy": "2022-04-06T12:13:50.472310Z",
     "iopub.status.idle": "2022-04-06T12:13:50.491736Z",
     "shell.execute_reply": "2022-04-06T12:13:50.492253Z",
     "shell.execute_reply.started": "2022-04-06T12:02:50.017754Z"
    },
    "papermill": {
     "duration": 0.062372,
     "end_time": "2022-04-06T12:13:50.492448",
     "exception": false,
     "start_time": "2022-04-06T12:13:50.430076",
     "status": "completed"
    },
    "tags": []
   },
   "outputs": [
    {
     "data": {
      "text/html": [
       "<div>\n",
       "<style scoped>\n",
       "    .dataframe tbody tr th:only-of-type {\n",
       "        vertical-align: middle;\n",
       "    }\n",
       "\n",
       "    .dataframe tbody tr th {\n",
       "        vertical-align: top;\n",
       "    }\n",
       "\n",
       "    .dataframe thead th {\n",
       "        text-align: right;\n",
       "    }\n",
       "</style>\n",
       "<table border=\"1\" class=\"dataframe\">\n",
       "  <thead>\n",
       "    <tr style=\"text-align: right;\">\n",
       "      <th></th>\n",
       "      <th>GrLivArea</th>\n",
       "      <th>Price</th>\n",
       "      <th>YearBuilt</th>\n",
       "    </tr>\n",
       "    <tr>\n",
       "      <th>GarageType</th>\n",
       "      <th></th>\n",
       "      <th></th>\n",
       "      <th></th>\n",
       "    </tr>\n",
       "  </thead>\n",
       "  <tbody>\n",
       "    <tr>\n",
       "      <th>2Types</th>\n",
       "      <td>1663.666667</td>\n",
       "      <td>151283.333333</td>\n",
       "      <td>1953.166667</td>\n",
       "    </tr>\n",
       "    <tr>\n",
       "      <th>Attchd</th>\n",
       "      <td>1570.035014</td>\n",
       "      <td>202892.656322</td>\n",
       "      <td>1983.009195</td>\n",
       "    </tr>\n",
       "    <tr>\n",
       "      <th>Basment</th>\n",
       "      <td>1557.666667</td>\n",
       "      <td>160570.684211</td>\n",
       "      <td>1959.842105</td>\n",
       "    </tr>\n",
       "    <tr>\n",
       "      <th>BuiltIn</th>\n",
       "      <td>2140.536232</td>\n",
       "      <td>254751.738636</td>\n",
       "      <td>1995.295455</td>\n",
       "    </tr>\n",
       "    <tr>\n",
       "      <th>CarPort</th>\n",
       "      <td>1357.000000</td>\n",
       "      <td>109962.111111</td>\n",
       "      <td>1949.666667</td>\n",
       "    </tr>\n",
       "    <tr>\n",
       "      <th>Detchd</th>\n",
       "      <td>1326.145631</td>\n",
       "      <td>134091.162791</td>\n",
       "      <td>1946.777778</td>\n",
       "    </tr>\n",
       "    <tr>\n",
       "      <th>None</th>\n",
       "      <td>1191.641791</td>\n",
       "      <td>103317.283951</td>\n",
       "      <td>1942.481481</td>\n",
       "    </tr>\n",
       "  </tbody>\n",
       "</table>\n",
       "</div>"
      ],
      "text/plain": [
       "              GrLivArea          Price    YearBuilt\n",
       "GarageType                                         \n",
       "2Types      1663.666667  151283.333333  1953.166667\n",
       "Attchd      1570.035014  202892.656322  1983.009195\n",
       "Basment     1557.666667  160570.684211  1959.842105\n",
       "BuiltIn     2140.536232  254751.738636  1995.295455\n",
       "CarPort     1357.000000  109962.111111  1949.666667\n",
       "Detchd      1326.145631  134091.162791  1946.777778\n",
       "None        1191.641791  103317.283951  1942.481481"
      ]
     },
     "execution_count": 18,
     "metadata": {},
     "output_type": "execute_result"
    }
   ],
   "source": [
    "#can try with Garage Type fill, why? bigger houses are likely to have bigger garages (reasoning!)\n",
    "X.pivot_table(index = ['GarageType'])"
   ]
  },
  {
   "cell_type": "code",
   "execution_count": 19,
   "id": "77cfc9c7",
   "metadata": {
    "execution": {
     "iopub.execute_input": "2022-04-06T12:13:50.576372Z",
     "iopub.status.busy": "2022-04-06T12:13:50.575673Z",
     "iopub.status.idle": "2022-04-06T12:13:50.589685Z",
     "shell.execute_reply": "2022-04-06T12:13:50.589103Z",
     "shell.execute_reply.started": "2022-04-06T12:02:50.040796Z"
    },
    "papermill": {
     "duration": 0.057347,
     "end_time": "2022-04-06T12:13:50.589836",
     "exception": false,
     "start_time": "2022-04-06T12:13:50.532489",
     "status": "completed"
    },
    "tags": []
   },
   "outputs": [
    {
     "data": {
      "text/html": [
       "<div>\n",
       "<style scoped>\n",
       "    .dataframe tbody tr th:only-of-type {\n",
       "        vertical-align: middle;\n",
       "    }\n",
       "\n",
       "    .dataframe tbody tr th {\n",
       "        vertical-align: top;\n",
       "    }\n",
       "\n",
       "    .dataframe thead th {\n",
       "        text-align: right;\n",
       "    }\n",
       "</style>\n",
       "<table border=\"1\" class=\"dataframe\">\n",
       "  <thead>\n",
       "    <tr style=\"text-align: right;\">\n",
       "      <th></th>\n",
       "      <th>Price</th>\n",
       "      <th>GrLivArea</th>\n",
       "      <th>YearBuilt</th>\n",
       "    </tr>\n",
       "  </thead>\n",
       "  <tbody>\n",
       "    <tr>\n",
       "      <th>Price</th>\n",
       "      <td>1.000000</td>\n",
       "      <td>0.666672</td>\n",
       "      <td>0.522897</td>\n",
       "    </tr>\n",
       "    <tr>\n",
       "      <th>GrLivArea</th>\n",
       "      <td>0.666672</td>\n",
       "      <td>1.000000</td>\n",
       "      <td>0.206792</td>\n",
       "    </tr>\n",
       "    <tr>\n",
       "      <th>YearBuilt</th>\n",
       "      <td>0.522897</td>\n",
       "      <td>0.206792</td>\n",
       "      <td>1.000000</td>\n",
       "    </tr>\n",
       "  </tbody>\n",
       "</table>\n",
       "</div>"
      ],
      "text/plain": [
       "              Price  GrLivArea  YearBuilt\n",
       "Price      1.000000   0.666672   0.522897\n",
       "GrLivArea  0.666672   1.000000   0.206792\n",
       "YearBuilt  0.522897   0.206792   1.000000"
      ]
     },
     "execution_count": 19,
     "metadata": {},
     "output_type": "execute_result"
    }
   ],
   "source": [
    "group_fill = X.copy()\n",
    "group_fill['GrLivArea'] = group_fill['GrLivArea'].fillna(group_fill.groupby('GarageType')['GrLivArea'].transform('mean'))\n",
    "group_fill.corr()"
   ]
  },
  {
   "cell_type": "markdown",
   "id": "35aaa3d6",
   "metadata": {
    "papermill": {
     "duration": 0.040264,
     "end_time": "2022-04-06T12:13:50.670451",
     "exception": false,
     "start_time": "2022-04-06T12:13:50.630187",
     "status": "completed"
    },
    "tags": []
   },
   "source": [
    "### looks like it's lowering the correlation too but not as much. "
   ]
  },
  {
   "cell_type": "code",
   "execution_count": 20,
   "id": "9900535b",
   "metadata": {
    "execution": {
     "iopub.execute_input": "2022-04-06T12:13:50.759696Z",
     "iopub.status.busy": "2022-04-06T12:13:50.758967Z",
     "iopub.status.idle": "2022-04-06T12:13:50.774475Z",
     "shell.execute_reply": "2022-04-06T12:13:50.774950Z",
     "shell.execute_reply.started": "2022-04-06T12:02:50.059769Z"
    },
    "papermill": {
     "duration": 0.064296,
     "end_time": "2022-04-06T12:13:50.775163",
     "exception": false,
     "start_time": "2022-04-06T12:13:50.710867",
     "status": "completed"
    },
    "tags": []
   },
   "outputs": [
    {
     "data": {
      "text/html": [
       "<div>\n",
       "<style scoped>\n",
       "    .dataframe tbody tr th:only-of-type {\n",
       "        vertical-align: middle;\n",
       "    }\n",
       "\n",
       "    .dataframe tbody tr th {\n",
       "        vertical-align: top;\n",
       "    }\n",
       "\n",
       "    .dataframe thead th {\n",
       "        text-align: right;\n",
       "    }\n",
       "</style>\n",
       "<table border=\"1\" class=\"dataframe\">\n",
       "  <thead>\n",
       "    <tr style=\"text-align: right;\">\n",
       "      <th></th>\n",
       "      <th>GrLivArea</th>\n",
       "      <th>Price</th>\n",
       "      <th>YearBuilt</th>\n",
       "    </tr>\n",
       "    <tr>\n",
       "      <th>GarageType</th>\n",
       "      <th></th>\n",
       "      <th></th>\n",
       "      <th></th>\n",
       "    </tr>\n",
       "  </thead>\n",
       "  <tbody>\n",
       "    <tr>\n",
       "      <th>2Types</th>\n",
       "      <td>1663.666667</td>\n",
       "      <td>151283.333333</td>\n",
       "      <td>1953.166667</td>\n",
       "    </tr>\n",
       "    <tr>\n",
       "      <th>Attchd</th>\n",
       "      <td>1570.035014</td>\n",
       "      <td>202892.656322</td>\n",
       "      <td>1983.009195</td>\n",
       "    </tr>\n",
       "    <tr>\n",
       "      <th>Basment</th>\n",
       "      <td>1557.666667</td>\n",
       "      <td>160570.684211</td>\n",
       "      <td>1959.842105</td>\n",
       "    </tr>\n",
       "    <tr>\n",
       "      <th>BuiltIn</th>\n",
       "      <td>2140.536232</td>\n",
       "      <td>254751.738636</td>\n",
       "      <td>1995.295455</td>\n",
       "    </tr>\n",
       "    <tr>\n",
       "      <th>CarPort</th>\n",
       "      <td>1357.000000</td>\n",
       "      <td>109962.111111</td>\n",
       "      <td>1949.666667</td>\n",
       "    </tr>\n",
       "    <tr>\n",
       "      <th>Detchd</th>\n",
       "      <td>1326.145631</td>\n",
       "      <td>134091.162791</td>\n",
       "      <td>1946.777778</td>\n",
       "    </tr>\n",
       "    <tr>\n",
       "      <th>None</th>\n",
       "      <td>1191.641791</td>\n",
       "      <td>103317.283951</td>\n",
       "      <td>1942.481481</td>\n",
       "    </tr>\n",
       "  </tbody>\n",
       "</table>\n",
       "</div>"
      ],
      "text/plain": [
       "              GrLivArea          Price    YearBuilt\n",
       "GarageType                                         \n",
       "2Types      1663.666667  151283.333333  1953.166667\n",
       "Attchd      1570.035014  202892.656322  1983.009195\n",
       "Basment     1557.666667  160570.684211  1959.842105\n",
       "BuiltIn     2140.536232  254751.738636  1995.295455\n",
       "CarPort     1357.000000  109962.111111  1949.666667\n",
       "Detchd      1326.145631  134091.162791  1946.777778\n",
       "None        1191.641791  103317.283951  1942.481481"
      ]
     },
     "execution_count": 20,
     "metadata": {},
     "output_type": "execute_result"
    }
   ],
   "source": [
    "group_fill.pivot_table(index = ['GarageType'])\n",
    "#within group means stay the same of course since we just filled with those"
   ]
  },
  {
   "cell_type": "code",
   "execution_count": 21,
   "id": "5cd427f7",
   "metadata": {
    "execution": {
     "iopub.execute_input": "2022-04-06T12:13:50.865417Z",
     "iopub.status.busy": "2022-04-06T12:13:50.864329Z",
     "iopub.status.idle": "2022-04-06T12:13:50.885295Z",
     "shell.execute_reply": "2022-04-06T12:13:50.885853Z",
     "shell.execute_reply.started": "2022-04-06T12:02:50.088488Z"
    },
    "papermill": {
     "duration": 0.069763,
     "end_time": "2022-04-06T12:13:50.886085",
     "exception": false,
     "start_time": "2022-04-06T12:13:50.816322",
     "status": "completed"
    },
    "tags": []
   },
   "outputs": [
    {
     "data": {
      "text/html": [
       "<div>\n",
       "<style scoped>\n",
       "    .dataframe tbody tr th:only-of-type {\n",
       "        vertical-align: middle;\n",
       "    }\n",
       "\n",
       "    .dataframe tbody tr th {\n",
       "        vertical-align: top;\n",
       "    }\n",
       "\n",
       "    .dataframe thead th {\n",
       "        text-align: right;\n",
       "    }\n",
       "</style>\n",
       "<table border=\"1\" class=\"dataframe\">\n",
       "  <thead>\n",
       "    <tr style=\"text-align: right;\">\n",
       "      <th></th>\n",
       "      <th>Price</th>\n",
       "      <th>GrLivArea</th>\n",
       "      <th>YearBuilt</th>\n",
       "      <th>Fence</th>\n",
       "      <th>GarageType</th>\n",
       "    </tr>\n",
       "  </thead>\n",
       "  <tbody>\n",
       "    <tr>\n",
       "      <th>0</th>\n",
       "      <td>208500.0</td>\n",
       "      <td>0.361018</td>\n",
       "      <td>2003.0</td>\n",
       "      <td>0</td>\n",
       "      <td>Attchd</td>\n",
       "    </tr>\n",
       "    <tr>\n",
       "      <th>1</th>\n",
       "      <td>181500.0</td>\n",
       "      <td>-0.478050</td>\n",
       "      <td>1976.0</td>\n",
       "      <td>0</td>\n",
       "      <td>Attchd</td>\n",
       "    </tr>\n",
       "    <tr>\n",
       "      <th>2</th>\n",
       "      <td>223500.0</td>\n",
       "      <td>0.503360</td>\n",
       "      <td>2001.0</td>\n",
       "      <td>0</td>\n",
       "      <td>Attchd</td>\n",
       "    </tr>\n",
       "    <tr>\n",
       "      <th>3</th>\n",
       "      <td>140000.0</td>\n",
       "      <td>0.374128</td>\n",
       "      <td>1915.0</td>\n",
       "      <td>0</td>\n",
       "      <td>Detchd</td>\n",
       "    </tr>\n",
       "    <tr>\n",
       "      <th>4</th>\n",
       "      <td>250000.0</td>\n",
       "      <td>1.275003</td>\n",
       "      <td>2000.0</td>\n",
       "      <td>0</td>\n",
       "      <td>Attchd</td>\n",
       "    </tr>\n",
       "    <tr>\n",
       "      <th>...</th>\n",
       "      <td>...</td>\n",
       "      <td>...</td>\n",
       "      <td>...</td>\n",
       "      <td>...</td>\n",
       "      <td>...</td>\n",
       "    </tr>\n",
       "    <tr>\n",
       "      <th>1455</th>\n",
       "      <td>175000.0</td>\n",
       "      <td>0.243024</td>\n",
       "      <td>1999.0</td>\n",
       "      <td>0</td>\n",
       "      <td>Attchd</td>\n",
       "    </tr>\n",
       "    <tr>\n",
       "      <th>1456</th>\n",
       "      <td>210000.0</td>\n",
       "      <td>1.040888</td>\n",
       "      <td>1978.0</td>\n",
       "      <td>MnPrv</td>\n",
       "      <td>Attchd</td>\n",
       "    </tr>\n",
       "    <tr>\n",
       "      <th>1457</th>\n",
       "      <td>266500.0</td>\n",
       "      <td>1.540958</td>\n",
       "      <td>1941.0</td>\n",
       "      <td>GdPrv</td>\n",
       "      <td>Attchd</td>\n",
       "    </tr>\n",
       "    <tr>\n",
       "      <th>1458</th>\n",
       "      <td>142125.0</td>\n",
       "      <td>-0.822668</td>\n",
       "      <td>1950.0</td>\n",
       "      <td>0</td>\n",
       "      <td>Attchd</td>\n",
       "    </tr>\n",
       "    <tr>\n",
       "      <th>1459</th>\n",
       "      <td>147500.0</td>\n",
       "      <td>-0.489288</td>\n",
       "      <td>1965.0</td>\n",
       "      <td>0</td>\n",
       "      <td>Attchd</td>\n",
       "    </tr>\n",
       "  </tbody>\n",
       "</table>\n",
       "<p>1460 rows × 5 columns</p>\n",
       "</div>"
      ],
      "text/plain": [
       "         Price  GrLivArea  YearBuilt  Fence GarageType\n",
       "0     208500.0   0.361018     2003.0      0     Attchd\n",
       "1     181500.0  -0.478050     1976.0      0     Attchd\n",
       "2     223500.0   0.503360     2001.0      0     Attchd\n",
       "3     140000.0   0.374128     1915.0      0     Detchd\n",
       "4     250000.0   1.275003     2000.0      0     Attchd\n",
       "...        ...        ...        ...    ...        ...\n",
       "1455  175000.0   0.243024     1999.0      0     Attchd\n",
       "1456  210000.0   1.040888     1978.0  MnPrv     Attchd\n",
       "1457  266500.0   1.540958     1941.0  GdPrv     Attchd\n",
       "1458  142125.0  -0.822668     1950.0      0     Attchd\n",
       "1459  147500.0  -0.489288     1965.0      0     Attchd\n",
       "\n",
       "[1460 rows x 5 columns]"
      ]
     },
     "execution_count": 21,
     "metadata": {},
     "output_type": "execute_result"
    }
   ],
   "source": [
    "#so same method but often a little better\n",
    "scaler = StandardScaler()\n",
    "scaled_X = X.copy()\n",
    "scaled_X['GrLivArea'] = scaler.fit_transform(scaled_X['GrLivArea'].to_numpy().reshape(-1, 1))\n",
    "scaled_X.fillna(0)"
   ]
  },
  {
   "cell_type": "markdown",
   "id": "41bf591f",
   "metadata": {
    "papermill": {
     "duration": 0.041646,
     "end_time": "2022-04-06T12:13:50.969615",
     "exception": false,
     "start_time": "2022-04-06T12:13:50.927969",
     "status": "completed"
    },
    "tags": []
   },
   "source": [
    "### scale and standardize, then fill with 0, this is still the mean but it basically tells the model it's unimportant"
   ]
  },
  {
   "cell_type": "code",
   "execution_count": 22,
   "id": "7c2f5df7",
   "metadata": {
    "execution": {
     "iopub.execute_input": "2022-04-06T12:13:51.063847Z",
     "iopub.status.busy": "2022-04-06T12:13:51.057201Z",
     "iopub.status.idle": "2022-04-06T12:13:51.067916Z",
     "shell.execute_reply": "2022-04-06T12:13:51.068404Z",
     "shell.execute_reply.started": "2022-04-06T12:02:50.110573Z"
    },
    "papermill": {
     "duration": 0.057207,
     "end_time": "2022-04-06T12:13:51.068620",
     "exception": false,
     "start_time": "2022-04-06T12:13:51.011413",
     "status": "completed"
    },
    "tags": []
   },
   "outputs": [],
   "source": [
    "#even better, tell the model you filled nans, don't loose info !\n",
    "scaler = StandardScaler()\n",
    "scaled_X = X.copy()\n",
    "scaled_X['LivArea_was_nan'] = scaled_X['GrLivArea'].isna().apply(int)\n",
    "scaled_X['GrLivArea'] = scaler.fit_transform(scaled_X['GrLivArea'].to_numpy().reshape(-1, 1))\n",
    "scaled_X.GrLivArea.fillna(0, inplace = True)"
   ]
  },
  {
   "cell_type": "code",
   "execution_count": 23,
   "id": "d45e559d",
   "metadata": {
    "execution": {
     "iopub.execute_input": "2022-04-06T12:13:51.172709Z",
     "iopub.status.busy": "2022-04-06T12:13:51.171487Z",
     "iopub.status.idle": "2022-04-06T12:13:51.176128Z",
     "shell.execute_reply": "2022-04-06T12:13:51.175481Z",
     "shell.execute_reply.started": "2022-04-06T12:02:50.124390Z"
    },
    "papermill": {
     "duration": 0.063898,
     "end_time": "2022-04-06T12:13:51.176283",
     "exception": false,
     "start_time": "2022-04-06T12:13:51.112385",
     "status": "completed"
    },
    "tags": []
   },
   "outputs": [
    {
     "data": {
      "text/html": [
       "<div>\n",
       "<style scoped>\n",
       "    .dataframe tbody tr th:only-of-type {\n",
       "        vertical-align: middle;\n",
       "    }\n",
       "\n",
       "    .dataframe tbody tr th {\n",
       "        vertical-align: top;\n",
       "    }\n",
       "\n",
       "    .dataframe thead th {\n",
       "        text-align: right;\n",
       "    }\n",
       "</style>\n",
       "<table border=\"1\" class=\"dataframe\">\n",
       "  <thead>\n",
       "    <tr style=\"text-align: right;\">\n",
       "      <th></th>\n",
       "      <th>Price</th>\n",
       "      <th>GrLivArea</th>\n",
       "      <th>YearBuilt</th>\n",
       "      <th>Fence</th>\n",
       "      <th>GarageType</th>\n",
       "    </tr>\n",
       "  </thead>\n",
       "  <tbody>\n",
       "    <tr>\n",
       "      <th>0</th>\n",
       "      <td>208500.0</td>\n",
       "      <td>1710.0</td>\n",
       "      <td>2003.0</td>\n",
       "      <td>None</td>\n",
       "      <td>Attchd</td>\n",
       "    </tr>\n",
       "    <tr>\n",
       "      <th>1</th>\n",
       "      <td>181500.0</td>\n",
       "      <td>1262.0</td>\n",
       "      <td>1976.0</td>\n",
       "      <td>None</td>\n",
       "      <td>Attchd</td>\n",
       "    </tr>\n",
       "    <tr>\n",
       "      <th>2</th>\n",
       "      <td>223500.0</td>\n",
       "      <td>1786.0</td>\n",
       "      <td>2001.0</td>\n",
       "      <td>None</td>\n",
       "      <td>Attchd</td>\n",
       "    </tr>\n",
       "    <tr>\n",
       "      <th>3</th>\n",
       "      <td>140000.0</td>\n",
       "      <td>1717.0</td>\n",
       "      <td>1915.0</td>\n",
       "      <td>None</td>\n",
       "      <td>Detchd</td>\n",
       "    </tr>\n",
       "    <tr>\n",
       "      <th>4</th>\n",
       "      <td>250000.0</td>\n",
       "      <td>2198.0</td>\n",
       "      <td>2000.0</td>\n",
       "      <td>None</td>\n",
       "      <td>Attchd</td>\n",
       "    </tr>\n",
       "    <tr>\n",
       "      <th>...</th>\n",
       "      <td>...</td>\n",
       "      <td>...</td>\n",
       "      <td>...</td>\n",
       "      <td>...</td>\n",
       "      <td>...</td>\n",
       "    </tr>\n",
       "    <tr>\n",
       "      <th>1455</th>\n",
       "      <td>175000.0</td>\n",
       "      <td>1647.0</td>\n",
       "      <td>1999.0</td>\n",
       "      <td>None</td>\n",
       "      <td>Attchd</td>\n",
       "    </tr>\n",
       "    <tr>\n",
       "      <th>1456</th>\n",
       "      <td>210000.0</td>\n",
       "      <td>2073.0</td>\n",
       "      <td>1978.0</td>\n",
       "      <td>MnPrv</td>\n",
       "      <td>Attchd</td>\n",
       "    </tr>\n",
       "    <tr>\n",
       "      <th>1457</th>\n",
       "      <td>266500.0</td>\n",
       "      <td>2340.0</td>\n",
       "      <td>1941.0</td>\n",
       "      <td>GdPrv</td>\n",
       "      <td>Attchd</td>\n",
       "    </tr>\n",
       "    <tr>\n",
       "      <th>1458</th>\n",
       "      <td>142125.0</td>\n",
       "      <td>1078.0</td>\n",
       "      <td>1950.0</td>\n",
       "      <td>None</td>\n",
       "      <td>Attchd</td>\n",
       "    </tr>\n",
       "    <tr>\n",
       "      <th>1459</th>\n",
       "      <td>147500.0</td>\n",
       "      <td>1256.0</td>\n",
       "      <td>1965.0</td>\n",
       "      <td>None</td>\n",
       "      <td>Attchd</td>\n",
       "    </tr>\n",
       "  </tbody>\n",
       "</table>\n",
       "<p>1460 rows × 5 columns</p>\n",
       "</div>"
      ],
      "text/plain": [
       "         Price  GrLivArea  YearBuilt  Fence GarageType\n",
       "0     208500.0     1710.0     2003.0   None     Attchd\n",
       "1     181500.0     1262.0     1976.0   None     Attchd\n",
       "2     223500.0     1786.0     2001.0   None     Attchd\n",
       "3     140000.0     1717.0     1915.0   None     Detchd\n",
       "4     250000.0     2198.0     2000.0   None     Attchd\n",
       "...        ...        ...        ...    ...        ...\n",
       "1455  175000.0     1647.0     1999.0   None     Attchd\n",
       "1456  210000.0     2073.0     1978.0  MnPrv     Attchd\n",
       "1457  266500.0     2340.0     1941.0  GdPrv     Attchd\n",
       "1458  142125.0     1078.0     1950.0   None     Attchd\n",
       "1459  147500.0     1256.0     1965.0   None     Attchd\n",
       "\n",
       "[1460 rows x 5 columns]"
      ]
     },
     "execution_count": 23,
     "metadata": {},
     "output_type": "execute_result"
    }
   ],
   "source": [
    "X"
   ]
  },
  {
   "cell_type": "markdown",
   "id": "2cb91443",
   "metadata": {
    "papermill": {
     "duration": 0.042026,
     "end_time": "2022-04-06T12:13:51.260641",
     "exception": false,
     "start_time": "2022-04-06T12:13:51.218615",
     "status": "completed"
    },
    "tags": []
   },
   "source": [
    "# Correct way\n",
    "## very important, don't leak info to your test set, always do everything on train set, then on your test set\n",
    "## keep these separate or your CV could not be accurate, you could overfit"
   ]
  },
  {
   "cell_type": "code",
   "execution_count": 24,
   "id": "17622536",
   "metadata": {
    "execution": {
     "iopub.execute_input": "2022-04-06T12:13:51.359448Z",
     "iopub.status.busy": "2022-04-06T12:13:51.358695Z",
     "iopub.status.idle": "2022-04-06T12:13:53.014290Z",
     "shell.execute_reply": "2022-04-06T12:13:53.015692Z",
     "shell.execute_reply.started": "2022-04-06T12:02:50.151627Z"
    },
    "papermill": {
     "duration": 1.712937,
     "end_time": "2022-04-06T12:13:53.015974",
     "exception": false,
     "start_time": "2022-04-06T12:13:51.303037",
     "status": "completed"
    },
    "tags": []
   },
   "outputs": [
    {
     "data": {
      "text/html": [
       "<style type='text/css'>\n",
       ".datatable table.frame { margin-bottom: 0; }\n",
       ".datatable table.frame thead { border-bottom: none; }\n",
       ".datatable table.frame tr.coltypes td {  color: #FFFFFF;  line-height: 6px;  padding: 0 0.5em;}\n",
       ".datatable .bool    { background: #DDDD99; }\n",
       ".datatable .object  { background: #565656; }\n",
       ".datatable .int     { background: #5D9E5D; }\n",
       ".datatable .float   { background: #4040CC; }\n",
       ".datatable .str     { background: #CC4040; }\n",
       ".datatable .time    { background: #40CC40; }\n",
       ".datatable .row_index {  background: var(--jp-border-color3);  border-right: 1px solid var(--jp-border-color0);  color: var(--jp-ui-font-color3);  font-size: 9px;}\n",
       ".datatable .frame tbody td { text-align: left; }\n",
       ".datatable .frame tr.coltypes .row_index {  background: var(--jp-border-color0);}\n",
       ".datatable th:nth-child(2) { padding-left: 12px; }\n",
       ".datatable .hellipsis {  color: var(--jp-cell-editor-border-color);}\n",
       ".datatable .vellipsis {  background: var(--jp-layout-color0);  color: var(--jp-cell-editor-border-color);}\n",
       ".datatable .na {  color: var(--jp-cell-editor-border-color);  font-size: 80%;}\n",
       ".datatable .sp {  opacity: 0.25;}\n",
       ".datatable .footer { font-size: 9px; }\n",
       ".datatable .frame_dimensions {  background: var(--jp-border-color3);  border-top: 1px solid var(--jp-border-color0);  color: var(--jp-ui-font-color3);  display: inline-block;  opacity: 0.6;  padding: 1px 10px 1px 5px;}\n",
       "</style>\n"
      ],
      "text/plain": [
       "<IPython.core.display.HTML object>"
      ]
     },
     "metadata": {},
     "output_type": "display_data"
    },
    {
     "name": "stderr",
     "output_type": "stream",
     "text": [
      "/opt/conda/lib/python3.7/site-packages/ipykernel_launcher.py:3: SettingWithCopyWarning: \n",
      "A value is trying to be set on a copy of a slice from a DataFrame.\n",
      "Try using .loc[row_indexer,col_indexer] = value instead\n",
      "\n",
      "See the caveats in the documentation: https://pandas.pydata.org/pandas-docs/stable/user_guide/indexing.html#returning-a-view-versus-a-copy\n",
      "  This is separate from the ipykernel package so we can avoid doing imports until\n",
      "/opt/conda/lib/python3.7/site-packages/ipykernel_launcher.py:4: SettingWithCopyWarning: \n",
      "A value is trying to be set on a copy of a slice from a DataFrame.\n",
      "Try using .loc[row_indexer,col_indexer] = value instead\n",
      "\n",
      "See the caveats in the documentation: https://pandas.pydata.org/pandas-docs/stable/user_guide/indexing.html#returning-a-view-versus-a-copy\n",
      "  after removing the cwd from sys.path.\n",
      "/opt/conda/lib/python3.7/site-packages/sklearn/utils/validation.py:72: DataConversionWarning: A column-vector y was passed when a 1d array was expected. Please change the shape of y to (n_samples, ), for example using ravel().\n",
      "  return f(**kwargs)\n",
      "/opt/conda/lib/python3.7/site-packages/ipykernel_launcher.py:6: SettingWithCopyWarning: \n",
      "A value is trying to be set on a copy of a slice from a DataFrame.\n",
      "Try using .loc[row_indexer,col_indexer] = value instead\n",
      "\n",
      "See the caveats in the documentation: https://pandas.pydata.org/pandas-docs/stable/user_guide/indexing.html#returning-a-view-versus-a-copy\n",
      "  \n",
      "/opt/conda/lib/python3.7/site-packages/ipykernel_launcher.py:8: SettingWithCopyWarning: \n",
      "A value is trying to be set on a copy of a slice from a DataFrame.\n",
      "Try using .loc[row_indexer,col_indexer] = value instead\n",
      "\n",
      "See the caveats in the documentation: https://pandas.pydata.org/pandas-docs/stable/user_guide/indexing.html#returning-a-view-versus-a-copy\n",
      "  \n",
      "/opt/conda/lib/python3.7/site-packages/sklearn/model_selection/_split.py:297: FutureWarning: Setting a random_state has no effect since shuffle is False. This will raise an error in 0.24. You should leave random_state to its default (None), or set shuffle=True.\n",
      "  FutureWarning\n"
     ]
    },
    {
     "name": "stdout",
     "output_type": "stream",
     "text": [
      "score on fold 0 was 1579651661.1964133\n",
      "score on fold 1 was 2552377717.634608\n",
      "score on fold 2 was 1971916707.1744025\n",
      "score on fold 3 was 1619503982.4125078\n",
      "score on fold 4 was 2841374857.949645\n"
     ]
    }
   ],
   "source": [
    "from lightgbm import LGBMRegressor\n",
    "X_original = X.copy()\n",
    "X[\"Fence\"] = X.Fence.apply(lambda x: \"None\" if x == None else x)\n",
    "X[\"GarageType\"] = X.GarageType.apply(lambda x: \"None\" if x == None else x)\n",
    "encoder = LabelEncoder() #for Trees, think about what you're doing, not right for every model\n",
    "X[\"Fence\"] = encoder.fit_transform(X[\"Fence\"].to_numpy().reshape(-1, 1))\n",
    "encoder = LabelEncoder() #for Trees, think about what you're doing, not right for every model\n",
    "X[\"GarageType\"] = encoder.fit_transform(X[\"GarageType\"].to_numpy().reshape(-1, 1))\n",
    "\n",
    "\n",
    "# example 1 (depends on your strategy, other ways are ok too, just don't leak, think about leaking info)\n",
    "n_folds = 5\n",
    "#this lets you create 5 folds on which you can train and validate on you import it from sklearn.model_selection\n",
    "kfold = KFold(n_splits = n_folds, random_state = 42)\n",
    "y = X.pop(\"Price\")\n",
    "for fold, (train_indices, validation_indices) in enumerate(kfold.split(X)): #note we still have our test set\n",
    "    model = LGBMRegressor()\n",
    "    #train on 4 folds\n",
    "    X_train, X_test, y_train, y_test = X.loc[train_indices, :], X.loc[validation_indices, :], y.iloc[train_indices], y.iloc[validation_indices]\n",
    "    \n",
    "    #get mean of train set\n",
    "    train_mean = X.GrLivArea.mean()\n",
    "    #let model know where you filled in values\n",
    "    X_train['LivArea_was_nan'] = X_train['GrLivArea'].isna().apply(int)\n",
    "    #fill train set with mean of train set\n",
    "    X_train['GrLivArea'].fillna(train_mean, inplace = True)\n",
    "    \n",
    "    #let model know where you filled nans in test\n",
    "    X_test['LivArea_was_nan'] = X_test['GrLivArea'].isna().apply(int)\n",
    "    #fill Test set with Mean of TRAIN set\n",
    "    X_test.GrLivArea.fillna(train_mean, inplace = True)\n",
    "    model.fit(X_train, y_train)\n",
    "    #check performance on 5th fold\n",
    "    val_pred = model.predict(X_test)\n",
    "    val_score = mse(val_pred, y_test)\n",
    "    print(f\"score on fold {fold} was {val_score}\")"
   ]
  },
  {
   "cell_type": "code",
   "execution_count": 25,
   "id": "f79f8c6b",
   "metadata": {
    "execution": {
     "iopub.execute_input": "2022-04-06T12:13:53.120946Z",
     "iopub.status.busy": "2022-04-06T12:13:53.110250Z",
     "iopub.status.idle": "2022-04-06T12:13:53.757803Z",
     "shell.execute_reply": "2022-04-06T12:13:53.758412Z",
     "shell.execute_reply.started": "2022-04-06T12:02:50.836818Z"
    },
    "papermill": {
     "duration": 0.69681,
     "end_time": "2022-04-06T12:13:53.758602",
     "exception": false,
     "start_time": "2022-04-06T12:13:53.061792",
     "status": "completed"
    },
    "tags": []
   },
   "outputs": [
    {
     "name": "stderr",
     "output_type": "stream",
     "text": [
      "/opt/conda/lib/python3.7/site-packages/ipykernel_launcher.py:3: SettingWithCopyWarning: \n",
      "A value is trying to be set on a copy of a slice from a DataFrame.\n",
      "Try using .loc[row_indexer,col_indexer] = value instead\n",
      "\n",
      "See the caveats in the documentation: https://pandas.pydata.org/pandas-docs/stable/user_guide/indexing.html#returning-a-view-versus-a-copy\n",
      "  This is separate from the ipykernel package so we can avoid doing imports until\n",
      "/opt/conda/lib/python3.7/site-packages/ipykernel_launcher.py:4: SettingWithCopyWarning: \n",
      "A value is trying to be set on a copy of a slice from a DataFrame.\n",
      "Try using .loc[row_indexer,col_indexer] = value instead\n",
      "\n",
      "See the caveats in the documentation: https://pandas.pydata.org/pandas-docs/stable/user_guide/indexing.html#returning-a-view-versus-a-copy\n",
      "  after removing the cwd from sys.path.\n",
      "/opt/conda/lib/python3.7/site-packages/sklearn/utils/validation.py:72: DataConversionWarning: A column-vector y was passed when a 1d array was expected. Please change the shape of y to (n_samples, ), for example using ravel().\n",
      "  return f(**kwargs)\n",
      "/opt/conda/lib/python3.7/site-packages/ipykernel_launcher.py:6: SettingWithCopyWarning: \n",
      "A value is trying to be set on a copy of a slice from a DataFrame.\n",
      "Try using .loc[row_indexer,col_indexer] = value instead\n",
      "\n",
      "See the caveats in the documentation: https://pandas.pydata.org/pandas-docs/stable/user_guide/indexing.html#returning-a-view-versus-a-copy\n",
      "  \n",
      "/opt/conda/lib/python3.7/site-packages/ipykernel_launcher.py:8: SettingWithCopyWarning: \n",
      "A value is trying to be set on a copy of a slice from a DataFrame.\n",
      "Try using .loc[row_indexer,col_indexer] = value instead\n",
      "\n",
      "See the caveats in the documentation: https://pandas.pydata.org/pandas-docs/stable/user_guide/indexing.html#returning-a-view-versus-a-copy\n",
      "  \n",
      "/opt/conda/lib/python3.7/site-packages/sklearn/model_selection/_split.py:297: FutureWarning: Setting a random_state has no effect since shuffle is False. This will raise an error in 0.24. You should leave random_state to its default (None), or set shuffle=True.\n",
      "  FutureWarning\n"
     ]
    },
    {
     "name": "stdout",
     "output_type": "stream",
     "text": [
      "score on fold 0 was 1592171856.7008302\n",
      "score on fold 1 was 2556107352.609457\n",
      "score on fold 2 was 1968004041.1246755\n",
      "score on fold 3 was 1649711549.2210736\n",
      "score on fold 4 was 2788719092.759506\n"
     ]
    }
   ],
   "source": [
    "from lightgbm import LGBMRegressor\n",
    "X_original = X.copy()\n",
    "X[\"Fence\"] = X.Fence.apply(lambda x: \"None\" if x == None else x)\n",
    "X[\"GarageType\"] = X.GarageType.apply(lambda x: \"None\" if x == None else x)\n",
    "encoder = LabelEncoder() #for Trees, think about what you're doing, not right for every model\n",
    "X[\"Fence\"] = encoder.fit_transform(X[\"Fence\"].to_numpy().reshape(-1, 1))\n",
    "encoder = LabelEncoder() #for Trees, think about what you're doing, not right for every model\n",
    "X[\"GarageType\"] = encoder.fit_transform(X[\"GarageType\"].to_numpy().reshape(-1, 1))\n",
    "\n",
    "\n",
    "# example 2 (depends on your strategy, other ways are ok too, just don't leak, think about leaking info)\n",
    "n_folds = 5\n",
    "#this lets you create 5 folds on which you can train and validate on you import it from sklearn.model_selection\n",
    "kfold = KFold(n_splits = n_folds, random_state = 42)\n",
    "for fold, (train_indices, validation_indices) in enumerate(kfold.split(X)): #note we still have our test set\n",
    "    model = LGBMRegressor()\n",
    "    #train on 4 folds\n",
    "    X_train, X_test, y_train, y_test = X.loc[train_indices, :], X.loc[validation_indices, :], y.iloc[train_indices], y.iloc[validation_indices]\n",
    "    \n",
    "    \n",
    "    scaler = StandardScaler()\n",
    "    X_train['LivArea_was_nan'] = X_train['GrLivArea'].isna().apply(int)\n",
    "    #scaler is fit on Train Set only! Not the whole!\n",
    "    X_train['GrLivArea'] = scaler.fit_transform(X_train['GrLivArea'].to_numpy().reshape(-1, 1))\n",
    "    X_train.GrLivArea.fillna(0, inplace = True)\n",
    "    \n",
    "    #repeat for test set\n",
    "    #scaler transforms Test Set based on Train Set distribution, not the whole!\n",
    "    X_test['LivArea_was_nan'] = X_test['GrLivArea'].isna().apply(int)\n",
    "    X_test['GrLivArea'] = scaler.transform(X_test['GrLivArea'].to_numpy().reshape(-1, 1))\n",
    "    X_test.GrLivArea.fillna(0, inplace = True)\n",
    "    model.fit(X_train, y_train)\n",
    "    #check performance on 5th fold\n",
    "    val_pred = model.predict(X_test)\n",
    "    val_score = mse(val_pred, y_test)\n",
    "    print(f\"score on fold {fold} was {val_score}\")"
   ]
  },
  {
   "cell_type": "markdown",
   "id": "f6d05a62",
   "metadata": {
    "papermill": {
     "duration": 0.045656,
     "end_time": "2022-04-06T12:13:53.852755",
     "exception": false,
     "start_time": "2022-04-06T12:13:53.807099",
     "status": "completed"
    },
    "tags": []
   },
   "source": [
    "# not universal!\n",
    "## think about your data before filling in values, what would make sense\n",
    "## can you substitute? Check wikipedia sometimes to get some better understanding it's 15 minutes of reading saves 2 hours sometimes"
   ]
  },
  {
   "cell_type": "code",
   "execution_count": null,
   "id": "bf583972",
   "metadata": {
    "papermill": {
     "duration": 0.046245,
     "end_time": "2022-04-06T12:13:53.944748",
     "exception": false,
     "start_time": "2022-04-06T12:13:53.898503",
     "status": "completed"
    },
    "tags": []
   },
   "outputs": [],
   "source": []
  }
 ],
 "metadata": {
  "kernelspec": {
   "display_name": "Python 3",
   "language": "python",
   "name": "python3"
  },
  "language_info": {
   "codemirror_mode": {
    "name": "ipython",
    "version": 3
   },
   "file_extension": ".py",
   "mimetype": "text/x-python",
   "name": "python",
   "nbconvert_exporter": "python",
   "pygments_lexer": "ipython3",
   "version": "3.7.12"
  },
  "papermill": {
   "default_parameters": {},
   "duration": 25.237877,
   "end_time": "2022-04-06T12:13:55.102334",
   "environment_variables": {},
   "exception": null,
   "input_path": "__notebook__.ipynb",
   "output_path": "__notebook__.ipynb",
   "parameters": {},
   "start_time": "2022-04-06T12:13:29.864457",
   "version": "2.3.3"
  }
 },
 "nbformat": 4,
 "nbformat_minor": 5
}
