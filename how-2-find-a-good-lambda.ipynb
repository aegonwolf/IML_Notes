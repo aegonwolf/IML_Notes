{
 "cells": [
  {
   "cell_type": "markdown",
   "id": "a9ad3783",
   "metadata": {
    "papermill": {
     "duration": 0.012883,
     "end_time": "2022-03-23T07:55:51.247185",
     "exception": false,
     "start_time": "2022-03-23T07:55:51.234302",
     "status": "completed"
    },
    "tags": []
   },
   "source": [
    "### Let's climb \"the leaderboards\"\n",
    "i.e. improve our score from our last model"
   ]
  },
  {
   "cell_type": "code",
   "execution_count": 1,
   "id": "458ba596",
   "metadata": {
    "execution": {
     "iopub.execute_input": "2022-03-23T07:55:51.282898Z",
     "iopub.status.busy": "2022-03-23T07:55:51.281867Z",
     "iopub.status.idle": "2022-03-23T07:55:52.896182Z",
     "shell.execute_reply": "2022-03-23T07:55:52.895348Z",
     "shell.execute_reply.started": "2022-03-23T07:54:41.087429Z"
    },
    "papermill": {
     "duration": 1.635682,
     "end_time": "2022-03-23T07:55:52.896402",
     "exception": false,
     "start_time": "2022-03-23T07:55:51.260720",
     "status": "completed"
    },
    "tags": []
   },
   "outputs": [],
   "source": [
    "#import things needed for baseline and data \n",
    "#don't worry if there are some things you haven't seen yet, we'll go through it.\n",
    "from sklearn.datasets import fetch_openml\n",
    "from sklearn.linear_model import LinearRegression, RidgeCV, Ridge\n",
    "from sklearn.model_selection import train_test_split, cross_val_score, KFold\n",
    "from sklearn.metrics import mean_squared_error as mse\n",
    "import numpy as np\n",
    "import pandas as pd\n",
    "import matplotlib.pyplot as plt\n",
    "import seaborn as sns"
   ]
  },
  {
   "cell_type": "markdown",
   "id": "236ebf69",
   "metadata": {
    "papermill": {
     "duration": 0.012067,
     "end_time": "2022-03-23T07:55:52.920278",
     "exception": false,
     "start_time": "2022-03-23T07:55:52.908211",
     "status": "completed"
    },
    "tags": []
   },
   "source": [
    "# Predicting House Prices 💰🏡💰\n",
    "### We'll work on the same model, but this time we'll do better. :happysteurer:"
   ]
  },
  {
   "cell_type": "code",
   "execution_count": 2,
   "id": "df0eca2e",
   "metadata": {
    "execution": {
     "iopub.execute_input": "2022-03-23T07:55:52.951957Z",
     "iopub.status.busy": "2022-03-23T07:55:52.950879Z",
     "iopub.status.idle": "2022-03-23T07:55:59.322052Z",
     "shell.execute_reply": "2022-03-23T07:55:59.321367Z",
     "shell.execute_reply.started": "2022-03-23T07:54:41.132895Z"
    },
    "papermill": {
     "duration": 6.390401,
     "end_time": "2022-03-23T07:55:59.322246",
     "exception": false,
     "start_time": "2022-03-23T07:55:52.931845",
     "status": "completed"
    },
    "tags": []
   },
   "outputs": [],
   "source": [
    "#repeat see last notebook for line by line comments explanations of old stuff\n",
    "data = fetch_openml(name=\"house_prices\", as_frame=True)\n",
    "ames = data['data']\n",
    "ames['Price'] = data['target']\n",
    "#we'll keep a few more features this time to show some interactions\n",
    "housing = ames[['LotArea', 'FullBath', 'Price', 'GrLivArea', 'YearBuilt']]"
   ]
  },
  {
   "cell_type": "code",
   "execution_count": 3,
   "id": "84369c36",
   "metadata": {
    "execution": {
     "iopub.execute_input": "2022-03-23T07:55:59.356055Z",
     "iopub.status.busy": "2022-03-23T07:55:59.355222Z",
     "iopub.status.idle": "2022-03-23T07:55:59.358098Z",
     "shell.execute_reply": "2022-03-23T07:55:59.357554Z",
     "shell.execute_reply.started": "2022-03-23T07:54:41.428429Z"
    },
    "papermill": {
     "duration": 0.024256,
     "end_time": "2022-03-23T07:55:59.358259",
     "exception": false,
     "start_time": "2022-03-23T07:55:59.334003",
     "status": "completed"
    },
    "tags": []
   },
   "outputs": [],
   "source": [
    "y = housing.Price\n",
    "features = ['LotArea', 'FullBath', 'GrLivArea', 'YearBuilt']\n",
    "X = housing[features]\n",
    "X_train, X_test, y_train, y_test = train_test_split(X, y, test_size=0.2, random_state=42)"
   ]
  },
  {
   "cell_type": "code",
   "execution_count": 4,
   "id": "0f66b7e1",
   "metadata": {
    "execution": {
     "iopub.execute_input": "2022-03-23T07:55:59.387613Z",
     "iopub.status.busy": "2022-03-23T07:55:59.386859Z",
     "iopub.status.idle": "2022-03-23T07:55:59.392508Z",
     "shell.execute_reply": "2022-03-23T07:55:59.393055Z",
     "shell.execute_reply.started": "2022-03-23T07:54:41.436910Z"
    },
    "papermill": {
     "duration": 0.023414,
     "end_time": "2022-03-23T07:55:59.393251",
     "exception": false,
     "start_time": "2022-03-23T07:55:59.369837",
     "status": "completed"
    },
    "tags": []
   },
   "outputs": [
    {
     "name": "stderr",
     "output_type": "stream",
     "text": [
      "/opt/conda/lib/python3.7/site-packages/sklearn/model_selection/_split.py:297: FutureWarning: Setting a random_state has no effect since shuffle is False. This will raise an error in 0.24. You should leave random_state to its default (None), or set shuffle=True.\n",
      "  FutureWarning\n"
     ]
    }
   ],
   "source": [
    "lambdas = [0.1, 3, 5, 10, 100]\n",
    "n_folds = 10\n",
    "kfold = KFold(n_splits = n_folds, random_state = 42)"
   ]
  },
  {
   "cell_type": "code",
   "execution_count": 5,
   "id": "c80d6036",
   "metadata": {
    "execution": {
     "iopub.execute_input": "2022-03-23T07:55:59.420343Z",
     "iopub.status.busy": "2022-03-23T07:55:59.419378Z",
     "iopub.status.idle": "2022-03-23T07:55:59.669877Z",
     "shell.execute_reply": "2022-03-23T07:55:59.670764Z",
     "shell.execute_reply.started": "2022-03-23T07:54:41.454171Z"
    },
    "papermill": {
     "duration": 0.265972,
     "end_time": "2022-03-23T07:55:59.671054",
     "exception": false,
     "start_time": "2022-03-23T07:55:59.405082",
     "status": "completed"
    },
    "tags": []
   },
   "outputs": [
    {
     "name": "stdout",
     "output_type": "stream",
     "text": [
      "lambda: 0.1 cv score was 2107715151.95979\n",
      "lambda: 3 cv score was 2107425723.2078266\n",
      "lambda: 5 cv score was 2107234346.5931623\n",
      "lambda: 10 cv score was 2106783079.3001177\n",
      "lambda: 100 cv score was 2102351968.5125046\n"
     ]
    }
   ],
   "source": [
    "scores = dict()\n",
    "for lam in lambdas:\n",
    "    cv_score = 0\n",
    "    for fold, (train_indices, validation_indices) in enumerate(kfold.split(X_train)): \n",
    "        #instantiate a model\n",
    "        model = Ridge(alpha = lam)\n",
    "        model.fit(X_train.iloc[train_indices], y_train.iloc[train_indices])\n",
    "        val_pred = model.predict(X_train.iloc[validation_indices])\n",
    "        val_score = mse(val_pred, y_train.iloc[validation_indices])\n",
    "        \n",
    "        cv_score += val_score / n_folds\n",
    "    print(f\"lambda: {lam} cv score was {cv_score}\")\n",
    "    scores[lam] = cv_score"
   ]
  },
  {
   "cell_type": "code",
   "execution_count": 6,
   "id": "844394e3",
   "metadata": {
    "execution": {
     "iopub.execute_input": "2022-03-23T07:55:59.702586Z",
     "iopub.status.busy": "2022-03-23T07:55:59.701755Z",
     "iopub.status.idle": "2022-03-23T07:55:59.707379Z",
     "shell.execute_reply": "2022-03-23T07:55:59.706730Z",
     "shell.execute_reply.started": "2022-03-23T07:54:41.674002Z"
    },
    "papermill": {
     "duration": 0.022553,
     "end_time": "2022-03-23T07:55:59.707554",
     "exception": false,
     "start_time": "2022-03-23T07:55:59.685001",
     "status": "completed"
    },
    "tags": []
   },
   "outputs": [
    {
     "name": "stdout",
     "output_type": "stream",
     "text": [
      " Lambda with lowest cv was : 100\n"
     ]
    }
   ],
   "source": [
    "print(f\" Lambda with lowest cv was : {min(scores, key=scores.get)}\")"
   ]
  },
  {
   "cell_type": "code",
   "execution_count": 7,
   "id": "b7d7a09c",
   "metadata": {
    "execution": {
     "iopub.execute_input": "2022-03-23T07:55:59.739012Z",
     "iopub.status.busy": "2022-03-23T07:55:59.737897Z",
     "iopub.status.idle": "2022-03-23T07:55:59.753712Z",
     "shell.execute_reply": "2022-03-23T07:55:59.754272Z",
     "shell.execute_reply.started": "2022-03-23T07:54:41.682003Z"
    },
    "papermill": {
     "duration": 0.033431,
     "end_time": "2022-03-23T07:55:59.754479",
     "exception": false,
     "start_time": "2022-03-23T07:55:59.721048",
     "status": "completed"
    },
    "tags": []
   },
   "outputs": [
    {
     "data": {
      "text/plain": [
       "Ridge(alpha=100)"
      ]
     },
     "execution_count": 7,
     "metadata": {},
     "output_type": "execute_result"
    }
   ],
   "source": [
    "model = Ridge(alpha = lam)\n",
    "model.fit(X_train, y_train)\n",
    "#etc."
   ]
  },
  {
   "cell_type": "markdown",
   "id": "0903b4de",
   "metadata": {
    "papermill": {
     "duration": 0.013083,
     "end_time": "2022-03-23T07:55:59.781606",
     "exception": false,
     "start_time": "2022-03-23T07:55:59.768523",
     "status": "completed"
    },
    "tags": []
   },
   "source": [
    "# Now sklearn has built in functions\n",
    "RidgeCV for Ridge specifically or cross_val_score that reduce above to just 1,2 lines of code.\n",
    "I just did it this way to help bring the slides home."
   ]
  },
  {
   "cell_type": "code",
   "execution_count": 8,
   "id": "64e477fc",
   "metadata": {
    "execution": {
     "iopub.execute_input": "2022-03-23T07:55:59.813508Z",
     "iopub.status.busy": "2022-03-23T07:55:59.812262Z",
     "iopub.status.idle": "2022-03-23T07:55:59.829312Z",
     "shell.execute_reply": "2022-03-23T07:55:59.829923Z",
     "shell.execute_reply.started": "2022-03-23T07:54:41.704514Z"
    },
    "papermill": {
     "duration": 0.035113,
     "end_time": "2022-03-23T07:55:59.830142",
     "exception": false,
     "start_time": "2022-03-23T07:55:59.795029",
     "status": "completed"
    },
    "tags": []
   },
   "outputs": [
    {
     "name": "stdout",
     "output_type": "stream",
     "text": [
      "Best Alpha 100.0\n"
     ]
    }
   ],
   "source": [
    "ridge = RidgeCV(alphas = lambdas)\n",
    "ridge.fit(X_train, y_train)\n",
    "print(f\"Best Alpha {ridge.alpha_}\")"
   ]
  }
 ],
 "metadata": {
  "kernelspec": {
   "display_name": "Python 3",
   "language": "python",
   "name": "python3"
  },
  "language_info": {
   "codemirror_mode": {
    "name": "ipython",
    "version": 3
   },
   "file_extension": ".py",
   "mimetype": "text/x-python",
   "name": "python",
   "nbconvert_exporter": "python",
   "pygments_lexer": "ipython3",
   "version": "3.7.12"
  },
  "papermill": {
   "default_parameters": {},
   "duration": 22.163375,
   "end_time": "2022-03-23T07:56:00.858567",
   "environment_variables": {},
   "exception": null,
   "input_path": "__notebook__.ipynb",
   "output_path": "__notebook__.ipynb",
   "parameters": {},
   "start_time": "2022-03-23T07:55:38.695192",
   "version": "2.3.3"
  }
 },
 "nbformat": 4,
 "nbformat_minor": 5
}
